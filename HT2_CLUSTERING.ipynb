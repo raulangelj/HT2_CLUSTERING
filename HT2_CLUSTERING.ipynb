{
 "cells": [
  {
   "cell_type": "markdown",
   "metadata": {},
   "source": [
    "# HOJA DE TRABAJO 2 CLUSTERING\n",
    "\n",
    "Raul Jimenez 19017\n",
    "\n",
    "Oscar Saravia 19322\n",
    "\n",
    "Donaldo Garcial 19683"
   ]
  },
  {
   "cell_type": "code",
   "execution_count": 2,
   "metadata": {},
   "outputs": [],
   "source": [
    "from statsmodels.graphics.gofplots import qqplot\n",
    "import numpy as np\n",
    "import pandas as pd\n",
    "import pandasql as ps\n",
    "import matplotlib\n",
    "import matplotlib.pyplot as plt\n",
    "import scipy.stats as stats\n",
    "import statsmodels.stats.diagnostic as diag\n",
    "import statsmodels.api as sm\n",
    "import seaborn as sns\n",
    "import random\n",
    "import sklearn.cluster as cluster\n",
    "import sklearn.metrics as metrics\n",
    "import sklearn.preprocessing\n",
    "import scipy.cluster.hierarchy as sch\n",
    "import pyclustertend\n",
    "import sklearn.mixture as mixture\n",
    "from sklearn import datasets\n",
    "\n",
    "%matplotlib inline\n",
    "from mpl_toolkits.mplot3d import Axes3D\n",
    "plt.rcParams['figure.figsize'] = (16, 9)\n",
    "plt.style.use('ggplot')"
   ]
  },
  {
   "cell_type": "code",
   "execution_count": 4,
   "metadata": {},
   "outputs": [],
   "source": [
    "movies = pd.read_csv('./movies.csv', encoding ='latin1')"
   ]
  },
  {
   "cell_type": "markdown",
   "metadata": {},
   "source": [
    "## Preprocesamiento\n",
    "1. Haga el preprocesamiento del dataset, explique qué variables no aportan información a la \n",
    "generación de grupos y por qué. Describa con qué variables calculará los grupos."
   ]
  },
  {
   "cell_type": "markdown",
   "metadata": {},
   "source": [
    "**Logramos concluir que las variables que no aportan informacion para la generacion de grupos son todas aquellas cuantitativas debido a que no nos permiten optener datos cuantitativos. Las variables como castWomenAmount, castMenAmount debido a que solamente nos dicen la cantidad de mujeres y/o hombre que hubieron en la pelicula lo cual no aporta mayor valor a los datos. Al igual que la variable de productionCoAmount debido a que solamente nos dice la cantidad de compañias que participaron en la producion lo cual no tiene tanto valor para obtener un analicis estadistico al igual que ProductionCompanyCountry debido a que solo nos dice paises en los que se llevo acabo la producion.**\n",
    "\n",
    "**Las variables que nos ayudaran a calcular los grupos son las demas variables cuantitativas debidos a que son las que mas informacion brinand sobre que tan importatne fue la pelicula tanto para las personas que la vieron como para los que la producieron. Con esos datos se pueden armar grupos e identificar correlaciones entre variables.** "
   ]
  },
  {
   "cell_type": "code",
   "execution_count": 5,
   "metadata": {},
   "outputs": [
    {
     "data": {
      "text/html": [
       "<div>\n",
       "<style scoped>\n",
       "    .dataframe tbody tr th:only-of-type {\n",
       "        vertical-align: middle;\n",
       "    }\n",
       "\n",
       "    .dataframe tbody tr th {\n",
       "        vertical-align: top;\n",
       "    }\n",
       "\n",
       "    .dataframe thead th {\n",
       "        text-align: right;\n",
       "    }\n",
       "</style>\n",
       "<table border=\"1\" class=\"dataframe\">\n",
       "  <thead>\n",
       "    <tr style=\"text-align: right;\">\n",
       "      <th></th>\n",
       "      <th>popularity</th>\n",
       "      <th>budget</th>\n",
       "      <th>revenue</th>\n",
       "      <th>id</th>\n",
       "    </tr>\n",
       "  </thead>\n",
       "  <tbody>\n",
       "    <tr>\n",
       "      <th>0</th>\n",
       "      <td>20.880</td>\n",
       "      <td>4000000</td>\n",
       "      <td>4257354.0</td>\n",
       "      <td>5</td>\n",
       "    </tr>\n",
       "    <tr>\n",
       "      <th>1</th>\n",
       "      <td>9.596</td>\n",
       "      <td>21000000</td>\n",
       "      <td>12136938.0</td>\n",
       "      <td>6</td>\n",
       "    </tr>\n",
       "    <tr>\n",
       "      <th>2</th>\n",
       "      <td>100.003</td>\n",
       "      <td>11000000</td>\n",
       "      <td>775398007.0</td>\n",
       "      <td>11</td>\n",
       "    </tr>\n",
       "    <tr>\n",
       "      <th>3</th>\n",
       "      <td>134.435</td>\n",
       "      <td>94000000</td>\n",
       "      <td>940335536.0</td>\n",
       "      <td>12</td>\n",
       "    </tr>\n",
       "    <tr>\n",
       "      <th>4</th>\n",
       "      <td>58.751</td>\n",
       "      <td>55000000</td>\n",
       "      <td>677387716.0</td>\n",
       "      <td>13</td>\n",
       "    </tr>\n",
       "    <tr>\n",
       "      <th>...</th>\n",
       "      <td>...</td>\n",
       "      <td>...</td>\n",
       "      <td>...</td>\n",
       "      <td>...</td>\n",
       "    </tr>\n",
       "    <tr>\n",
       "      <th>9995</th>\n",
       "      <td>16.662</td>\n",
       "      <td>0</td>\n",
       "      <td>0.0</td>\n",
       "      <td>920081</td>\n",
       "    </tr>\n",
       "    <tr>\n",
       "      <th>9996</th>\n",
       "      <td>491.706</td>\n",
       "      <td>0</td>\n",
       "      <td>0.0</td>\n",
       "      <td>920143</td>\n",
       "    </tr>\n",
       "    <tr>\n",
       "      <th>9997</th>\n",
       "      <td>565.658</td>\n",
       "      <td>0</td>\n",
       "      <td>0.0</td>\n",
       "      <td>922017</td>\n",
       "    </tr>\n",
       "    <tr>\n",
       "      <th>9998</th>\n",
       "      <td>9.664</td>\n",
       "      <td>0</td>\n",
       "      <td>0.0</td>\n",
       "      <td>922162</td>\n",
       "    </tr>\n",
       "    <tr>\n",
       "      <th>9999</th>\n",
       "      <td>83.747</td>\n",
       "      <td>254056</td>\n",
       "      <td>254042.0</td>\n",
       "      <td>922260</td>\n",
       "    </tr>\n",
       "  </tbody>\n",
       "</table>\n",
       "<p>10000 rows × 4 columns</p>\n",
       "</div>"
      ],
      "text/plain": [
       "      popularity    budget      revenue      id\n",
       "0         20.880   4000000    4257354.0       5\n",
       "1          9.596  21000000   12136938.0       6\n",
       "2        100.003  11000000  775398007.0      11\n",
       "3        134.435  94000000  940335536.0      12\n",
       "4         58.751  55000000  677387716.0      13\n",
       "...          ...       ...          ...     ...\n",
       "9995      16.662         0          0.0  920081\n",
       "9996     491.706         0          0.0  920143\n",
       "9997     565.658         0          0.0  922017\n",
       "9998       9.664         0          0.0  922162\n",
       "9999      83.747    254056     254042.0  922260\n",
       "\n",
       "[10000 rows x 4 columns]"
      ]
     },
     "execution_count": 5,
     "metadata": {},
     "output_type": "execute_result"
    }
   ],
   "source": [
    "datos = movies[['popularity', 'budget', 'revenue', 'id']]\n",
    "datos"
   ]
  },
  {
   "cell_type": "code",
   "execution_count": 14,
   "metadata": {},
   "outputs": [
    {
     "name": "stderr",
     "output_type": "stream",
     "text": [
      "C:\\Users\\ALIEWARE\\AppData\\Local\\Temp\\ipykernel_36024\\1897933796.py:1: FutureWarning: In a future version of pandas all arguments of DataFrame.drop except for the argument 'labels' will be keyword-only\n",
      "  datos.drop(['id'], 1).hist()\n"
     ]
    },
    {
     "data": {
      "image/png": "[encoded data removed]",
      "text/plain": [
       "<Figure size 1152x648 with 4 Axes>"
      ]
     },
     "metadata": {},
     "output_type": "display_data"
    }
   ],
   "source": [
    "datos.drop(['id'], 1).hist()\n",
    "plt.show()"
   ]
  },
  {
   "cell_type": "markdown",
   "metadata": {},
   "source": [
    "## Tendencia al agrupamiento\n",
    "2. Analice la tendencia al agrupamiento usando el estadístico de Hopkings y la VAT (Visual Assessment \n",
    "of cluster Tendency). Discuta sus resultados e impresiones. "
   ]
  },
  {
   "cell_type": "code",
   "execution_count": 6,
   "metadata": {},
   "outputs": [],
   "source": [
    "datos = movies[['popularity', 'budget', 'revenue']]"
   ]
  },
  {
   "cell_type": "code",
   "execution_count": 6,
   "metadata": {},
   "outputs": [
    {
     "data": {
      "text/plain": [
       "0.011469604586810126"
      ]
     },
     "execution_count": 6,
     "metadata": {},
     "output_type": "execute_result"
    }
   ],
   "source": [
    "random.seed(150)\n",
    "X_scale=sklearn.preprocessing.scale(datos)\n",
    "# X = X_scale\n",
    "pyclustertend.hopkins(datos,len(datos))"
   ]
  },
  {
   "cell_type": "markdown",
   "metadata": {},
   "source": [
    " Como se puede observar el estadístico de hopkings no es igual a 0.5 por lo que se dice que es factible hacer agrupamiento."
   ]
  },
  {
   "cell_type": "code",
   "execution_count": 7,
   "metadata": {},
   "outputs": [],
   "source": [
    "pyclustertend.vat(X_scale)"
   ]
  },
  {
   "cell_type": "code",
   "execution_count": null,
   "metadata": {},
   "outputs": [],
   "source": [
    "pyclustertend.vat(datos)"
   ]
  },
  {
   "cell_type": "markdown",
   "metadata": {},
   "source": [
    "## Numero de grupos\n",
    "3. Determine cuál es el número de grupos a formar más adecuado para los datos que está trabajando. \n",
    "Haga una gráfica de codo y explique la razón de la elección de la cantidad de clústeres con la que \n",
    "trabajará. "
   ]
  },
  {
   "cell_type": "code",
   "execution_count": 7,
   "metadata": {},
   "outputs": [
    {
     "data": {
      "image/png": "[encoded data removed]",
      "text/plain": [
       "<Figure size 1152x648 with 1 Axes>"
      ]
     },
     "metadata": {},
     "output_type": "display_data"
    }
   ],
   "source": [
    "numeroClusters = range(1,11)\n",
    "wcss = []\n",
    "for i in numeroClusters:\n",
    "    kmeans = cluster.KMeans(n_clusters=i)\n",
    "    kmeans.fit(datos)\n",
    "    wcss.append(kmeans.inertia_)\n",
    "\n",
    "plt.plot(numeroClusters, wcss)\n",
    "plt.xlabel(\"Número de clusters\")\n",
    "plt.ylabel(\"Score\")\n",
    "plt.title(\"Gráfico de Codo\")\n",
    "plt.show()"
   ]
  },
  {
   "cell_type": "markdown",
   "metadata": {},
   "source": [
    " K = 3 es un buen número"
   ]
  }
 ],
 "metadata": {
  "interpreter": {
   "hash": "4d46db6e1e7dc1527ffac0d0f615a7bdece170757fd0b573e95b94a68f1d8cb2"
  },
  "kernelspec": {
   "display_name": "Python 3.9.6 64-bit",
   "language": "python",
   "name": "python3"
  },
  "language_info": {
   "codemirror_mode": {
    "name": "ipython",
    "version": 3
   },
   "file_extension": ".py",
   "mimetype": "text/x-python",
   "name": "python",
   "nbconvert_exporter": "python",
   "pygments_lexer": "ipython3",
   "version": "3.9.6"
  },
  "orig_nbformat": 4
 },
 "nbformat": 4,
 "nbformat_minor": 2
}
