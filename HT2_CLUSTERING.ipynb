{
 "cells": [
  {
   "cell_type": "markdown",
   "metadata": {},
   "source": [
    "# HOJA DE TRABAJO 2 CLUSTERING\n",
    "\n",
    "Raul Jimenez 19017\n",
    "\n",
    "Oscar Saravia 19322\n",
    "\n",
    "Donaldo Garcial 19683"
   ]
  }
 ],
 "metadata": {
  "language_info": {
   "name": "python"
  },
  "orig_nbformat": 4
 },
 "nbformat": 4,
 "nbformat_minor": 2
}
